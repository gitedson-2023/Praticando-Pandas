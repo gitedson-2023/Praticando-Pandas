{
 "cells": [
  {
   "cell_type": "markdown",
   "id": "d1cf62f9",
   "metadata": {},
   "source": [
    "# Importando o Pandas"
   ]
  },
  {
   "cell_type": "code",
   "execution_count": 103,
   "id": "c46a27ba",
   "metadata": {},
   "outputs": [],
   "source": [
    "import pandas as pd\n",
    "from pandas import Series, DataFrame"
   ]
  },
  {
   "cell_type": "markdown",
   "id": "16009291",
   "metadata": {},
   "source": [
    "# Importando nossa base de dados"
   ]
  },
  {
   "cell_type": "code",
   "execution_count": 50,
   "id": "b751a88e",
   "metadata": {},
   "outputs": [
    {
     "data": {
      "text/html": [
       "<div>\n",
       "<style scoped>\n",
       "    .dataframe tbody tr th:only-of-type {\n",
       "        vertical-align: middle;\n",
       "    }\n",
       "\n",
       "    .dataframe tbody tr th {\n",
       "        vertical-align: top;\n",
       "    }\n",
       "\n",
       "    .dataframe thead th {\n",
       "        text-align: right;\n",
       "    }\n",
       "</style>\n",
       "<table border=\"1\" class=\"dataframe\">\n",
       "  <thead>\n",
       "    <tr style=\"text-align: right;\">\n",
       "      <th></th>\n",
       "      <th>Season</th>\n",
       "      <th>Competition</th>\n",
       "      <th>Matchday</th>\n",
       "      <th>Date</th>\n",
       "      <th>Venue</th>\n",
       "      <th>Club</th>\n",
       "      <th>Opponent</th>\n",
       "      <th>Minute</th>\n",
       "      <th>Type</th>\n",
       "      <th>Goal_assist</th>\n",
       "    </tr>\n",
       "  </thead>\n",
       "  <tbody>\n",
       "    <tr>\n",
       "      <th>0</th>\n",
       "      <td>2004/05</td>\n",
       "      <td>La Liga</td>\n",
       "      <td>34</td>\n",
       "      <td>01/05/2005</td>\n",
       "      <td>H</td>\n",
       "      <td>FC Barcelona</td>\n",
       "      <td>Albacete Balompié</td>\n",
       "      <td>90+1</td>\n",
       "      <td>Left-footed shot</td>\n",
       "      <td>Ronaldinho</td>\n",
       "    </tr>\n",
       "    <tr>\n",
       "      <th>1</th>\n",
       "      <td>2005/06</td>\n",
       "      <td>UEFA Champions League</td>\n",
       "      <td>Group Stage</td>\n",
       "      <td>02/11/2005</td>\n",
       "      <td>H</td>\n",
       "      <td>FC Barcelona</td>\n",
       "      <td>Panathinaikos Athens</td>\n",
       "      <td>34</td>\n",
       "      <td>Left-footed shot</td>\n",
       "      <td>NaN</td>\n",
       "    </tr>\n",
       "    <tr>\n",
       "      <th>2</th>\n",
       "      <td>2005/06</td>\n",
       "      <td>La Liga</td>\n",
       "      <td>13</td>\n",
       "      <td>27/11/2005</td>\n",
       "      <td>H</td>\n",
       "      <td>FC Barcelona</td>\n",
       "      <td>Racing Santander</td>\n",
       "      <td>51</td>\n",
       "      <td>Left-footed shot</td>\n",
       "      <td>Samuel Eto'o</td>\n",
       "    </tr>\n",
       "    <tr>\n",
       "      <th>3</th>\n",
       "      <td>2005/06</td>\n",
       "      <td>La Liga</td>\n",
       "      <td>19</td>\n",
       "      <td>15/01/2006</td>\n",
       "      <td>H</td>\n",
       "      <td>FC Barcelona</td>\n",
       "      <td>Athletic Bilbao</td>\n",
       "      <td>50</td>\n",
       "      <td>Left-footed shot</td>\n",
       "      <td>Mark van Bommel</td>\n",
       "    </tr>\n",
       "    <tr>\n",
       "      <th>4</th>\n",
       "      <td>2005/06</td>\n",
       "      <td>La Liga</td>\n",
       "      <td>20</td>\n",
       "      <td>22/01/2006</td>\n",
       "      <td>H</td>\n",
       "      <td>FC Barcelona</td>\n",
       "      <td>Deportivo Alavés</td>\n",
       "      <td>82</td>\n",
       "      <td>Left-footed shot</td>\n",
       "      <td>Ronaldinho</td>\n",
       "    </tr>\n",
       "  </tbody>\n",
       "</table>\n",
       "</div>"
      ],
      "text/plain": [
       "    Season            Competition     Matchday        Date Venue  \\\n",
       "0  2004/05                La Liga           34  01/05/2005     H   \n",
       "1  2005/06  UEFA Champions League  Group Stage  02/11/2005     H   \n",
       "2  2005/06                La Liga           13  27/11/2005     H   \n",
       "3  2005/06                La Liga           19  15/01/2006     H   \n",
       "4  2005/06                La Liga           20  22/01/2006     H   \n",
       "\n",
       "           Club              Opponent Minute              Type  \\\n",
       "0  FC Barcelona     Albacete Balompié   90+1  Left-footed shot   \n",
       "1  FC Barcelona  Panathinaikos Athens     34  Left-footed shot   \n",
       "2  FC Barcelona      Racing Santander     51  Left-footed shot   \n",
       "3  FC Barcelona       Athletic Bilbao     50  Left-footed shot   \n",
       "4  FC Barcelona      Deportivo Alavés     82  Left-footed shot   \n",
       "\n",
       "       Goal_assist  \n",
       "0       Ronaldinho  \n",
       "1              NaN  \n",
       "2     Samuel Eto'o  \n",
       "3  Mark van Bommel  \n",
       "4       Ronaldinho  "
      ]
     },
     "execution_count": 50,
     "metadata": {},
     "output_type": "execute_result"
    }
   ],
   "source": [
    "dados = pd.read_csv('messi.csv', encoding='ISO-8859-1', sep=';')\n",
    "pd.set_option('display.max_rows', 1000)\n",
    "dados.head()"
   ]
  },
  {
   "cell_type": "markdown",
   "id": "91983ce2",
   "metadata": {},
   "source": [
    "Utilizei o padrão ISO-8859-1 para codificar os caracteres do database."
   ]
  },
  {
   "cell_type": "markdown",
   "id": "ae3cfbdc",
   "metadata": {},
   "source": [
    "# Gols por competição"
   ]
  },
  {
   "cell_type": "code",
   "execution_count": 49,
   "id": "ed3306ee",
   "metadata": {},
   "outputs": [
    {
     "data": {
      "text/html": [
       "<div>\n",
       "<style scoped>\n",
       "    .dataframe tbody tr th:only-of-type {\n",
       "        vertical-align: middle;\n",
       "    }\n",
       "\n",
       "    .dataframe tbody tr th {\n",
       "        vertical-align: top;\n",
       "    }\n",
       "\n",
       "    .dataframe thead th {\n",
       "        text-align: right;\n",
       "    }\n",
       "</style>\n",
       "<table border=\"1\" class=\"dataframe\">\n",
       "  <thead>\n",
       "    <tr style=\"text-align: right;\">\n",
       "      <th></th>\n",
       "      <th>Competition</th>\n",
       "    </tr>\n",
       "  </thead>\n",
       "  <tbody>\n",
       "    <tr>\n",
       "      <th>La Liga</th>\n",
       "      <td>474</td>\n",
       "    </tr>\n",
       "    <tr>\n",
       "      <th>UEFA Champions League</th>\n",
       "      <td>129</td>\n",
       "    </tr>\n",
       "    <tr>\n",
       "      <th>Copa del Rey</th>\n",
       "      <td>56</td>\n",
       "    </tr>\n",
       "    <tr>\n",
       "      <th>Ligue 1</th>\n",
       "      <td>24</td>\n",
       "    </tr>\n",
       "    <tr>\n",
       "      <th>Supercopa</th>\n",
       "      <td>14</td>\n",
       "    </tr>\n",
       "    <tr>\n",
       "      <th>FIFA Club World Cup</th>\n",
       "      <td>5</td>\n",
       "    </tr>\n",
       "    <tr>\n",
       "      <th>UEFA Super Cup</th>\n",
       "      <td>3</td>\n",
       "    </tr>\n",
       "    <tr>\n",
       "      <th>Trophée des Champions</th>\n",
       "      <td>2</td>\n",
       "    </tr>\n",
       "  </tbody>\n",
       "</table>\n",
       "</div>"
      ],
      "text/plain": [
       "                       Competition\n",
       "La Liga                        474\n",
       "UEFA Champions League          129\n",
       "Copa del Rey                    56\n",
       "Ligue 1                         24\n",
       "Supercopa                       14\n",
       "FIFA Club World Cup              5\n",
       "UEFA Super Cup                   3\n",
       "Trophée des Champions            2"
      ]
     },
     "execution_count": 49,
     "metadata": {},
     "output_type": "execute_result"
    }
   ],
   "source": [
    "compet = dados['Competition'].value_counts()\n",
    "pd.DataFrame(compet).head(10)"
   ]
  },
  {
   "cell_type": "markdown",
   "id": "def972ad",
   "metadata": {},
   "source": [
    "Messi é o maior artilheiro da história de La Liga e o segundo maior da Champions."
   ]
  },
  {
   "cell_type": "markdown",
   "id": "4a1651ba",
   "metadata": {},
   "source": [
    "# Os 10 maiores 'garçons' de Lionel Messi"
   ]
  },
  {
   "cell_type": "code",
   "execution_count": 48,
   "id": "e164299a",
   "metadata": {},
   "outputs": [
    {
     "data": {
      "text/html": [
       "<div>\n",
       "<style scoped>\n",
       "    .dataframe tbody tr th:only-of-type {\n",
       "        vertical-align: middle;\n",
       "    }\n",
       "\n",
       "    .dataframe tbody tr th {\n",
       "        vertical-align: top;\n",
       "    }\n",
       "\n",
       "    .dataframe thead th {\n",
       "        text-align: right;\n",
       "    }\n",
       "</style>\n",
       "<table border=\"1\" class=\"dataframe\">\n",
       "  <thead>\n",
       "    <tr style=\"text-align: right;\">\n",
       "      <th></th>\n",
       "      <th>Goal_assist</th>\n",
       "    </tr>\n",
       "  </thead>\n",
       "  <tbody>\n",
       "    <tr>\n",
       "      <th>Luis Suárez</th>\n",
       "      <td>48</td>\n",
       "    </tr>\n",
       "    <tr>\n",
       "      <th>Dani Alves</th>\n",
       "      <td>42</td>\n",
       "    </tr>\n",
       "    <tr>\n",
       "      <th>Andrés Iniesta</th>\n",
       "      <td>39</td>\n",
       "    </tr>\n",
       "    <tr>\n",
       "      <th>Xavi Hernández</th>\n",
       "      <td>34</td>\n",
       "    </tr>\n",
       "    <tr>\n",
       "      <th>Neymar</th>\n",
       "      <td>30</td>\n",
       "    </tr>\n",
       "    <tr>\n",
       "      <th>Pedro Rodríguez</th>\n",
       "      <td>29</td>\n",
       "    </tr>\n",
       "    <tr>\n",
       "      <th>Jordi Alba</th>\n",
       "      <td>23</td>\n",
       "    </tr>\n",
       "    <tr>\n",
       "      <th>Ivan Rakitic</th>\n",
       "      <td>19</td>\n",
       "    </tr>\n",
       "    <tr>\n",
       "      <th>Sergio Busquets</th>\n",
       "      <td>19</td>\n",
       "    </tr>\n",
       "    <tr>\n",
       "      <th>Cesc Fàbregas</th>\n",
       "      <td>14</td>\n",
       "    </tr>\n",
       "  </tbody>\n",
       "</table>\n",
       "</div>"
      ],
      "text/plain": [
       "                 Goal_assist\n",
       "Luis Suárez               48\n",
       "Dani Alves                42\n",
       "Andrés Iniesta            39\n",
       "Xavi Hernández            34\n",
       "Neymar                    30\n",
       "Pedro Rodríguez           29\n",
       "Jordi Alba                23\n",
       "Ivan Rakitic              19\n",
       "Sergio Busquets           19\n",
       "Cesc Fàbregas             14"
      ]
     },
     "execution_count": 48,
     "metadata": {},
     "output_type": "execute_result"
    }
   ],
   "source": [
    "assist = dados['Goal_assist'].value_counts()\n",
    "pd.DataFrame(assist).head(10)"
   ]
  },
  {
   "cell_type": "markdown",
   "id": "c9ad91c1",
   "metadata": {},
   "source": [
    "Luis Suárez foi quem deu mais assistências para os gols de Messi. Sem dúvidas, os dois fizeram uma das melhores duplas da história do futebol."
   ]
  },
  {
   "cell_type": "markdown",
   "id": "c1f9f38e",
   "metadata": {},
   "source": [
    "# Temporadas mais goleadoras"
   ]
  },
  {
   "cell_type": "code",
   "execution_count": 102,
   "id": "45288d8e",
   "metadata": {},
   "outputs": [
    {
     "data": {
      "text/html": [
       "<div>\n",
       "<style scoped>\n",
       "    .dataframe tbody tr th:only-of-type {\n",
       "        vertical-align: middle;\n",
       "    }\n",
       "\n",
       "    .dataframe tbody tr th {\n",
       "        vertical-align: top;\n",
       "    }\n",
       "\n",
       "    .dataframe thead th {\n",
       "        text-align: right;\n",
       "    }\n",
       "</style>\n",
       "<table border=\"1\" class=\"dataframe\">\n",
       "  <thead>\n",
       "    <tr style=\"text-align: right;\">\n",
       "      <th></th>\n",
       "      <th>Season</th>\n",
       "    </tr>\n",
       "  </thead>\n",
       "  <tbody>\n",
       "    <tr>\n",
       "      <th>2011/12</th>\n",
       "      <td>73</td>\n",
       "    </tr>\n",
       "    <tr>\n",
       "      <th>2012/13</th>\n",
       "      <td>60</td>\n",
       "    </tr>\n",
       "    <tr>\n",
       "      <th>2014/15</th>\n",
       "      <td>58</td>\n",
       "    </tr>\n",
       "    <tr>\n",
       "      <th>2016/17</th>\n",
       "      <td>54</td>\n",
       "    </tr>\n",
       "    <tr>\n",
       "      <th>2010/11</th>\n",
       "      <td>53</td>\n",
       "    </tr>\n",
       "  </tbody>\n",
       "</table>\n",
       "</div>"
      ],
      "text/plain": [
       "         Season\n",
       "2011/12      73\n",
       "2012/13      60\n",
       "2014/15      58\n",
       "2016/17      54\n",
       "2010/11      53"
      ]
     },
     "execution_count": 102,
     "metadata": {},
     "output_type": "execute_result"
    }
   ],
   "source": [
    "season = dados['Season'].value_counts()\n",
    "pd.DataFrame(season).head()"
   ]
  },
  {
   "cell_type": "markdown",
   "id": "e3f28c86",
   "metadata": {},
   "source": [
    "O Messi de 2011/12 foi apelação. Estabeleceu o recorde de mais gols em uma única temporada do futebol europeu."
   ]
  },
  {
   "cell_type": "markdown",
   "id": "abc07ef6",
   "metadata": {},
   "source": [
    "# Maiores vítimas do gênio argentino"
   ]
  },
  {
   "cell_type": "code",
   "execution_count": 52,
   "id": "9f0bcedd",
   "metadata": {},
   "outputs": [
    {
     "data": {
      "text/html": [
       "<div>\n",
       "<style scoped>\n",
       "    .dataframe tbody tr th:only-of-type {\n",
       "        vertical-align: middle;\n",
       "    }\n",
       "\n",
       "    .dataframe tbody tr th {\n",
       "        vertical-align: top;\n",
       "    }\n",
       "\n",
       "    .dataframe thead th {\n",
       "        text-align: right;\n",
       "    }\n",
       "</style>\n",
       "<table border=\"1\" class=\"dataframe\">\n",
       "  <thead>\n",
       "    <tr style=\"text-align: right;\">\n",
       "      <th></th>\n",
       "      <th>Opponent</th>\n",
       "    </tr>\n",
       "  </thead>\n",
       "  <tbody>\n",
       "    <tr>\n",
       "      <th>Sevilla FC</th>\n",
       "      <td>38</td>\n",
       "    </tr>\n",
       "    <tr>\n",
       "      <th>Atlético de Madrid</th>\n",
       "      <td>32</td>\n",
       "    </tr>\n",
       "    <tr>\n",
       "      <th>Valencia CF</th>\n",
       "      <td>31</td>\n",
       "    </tr>\n",
       "    <tr>\n",
       "      <th>Athletic Bilbao</th>\n",
       "      <td>29</td>\n",
       "    </tr>\n",
       "    <tr>\n",
       "      <th>Real Madrid</th>\n",
       "      <td>26</td>\n",
       "    </tr>\n",
       "    <tr>\n",
       "      <th>Real Bétis</th>\n",
       "      <td>26</td>\n",
       "    </tr>\n",
       "    <tr>\n",
       "      <th>RCD Espanyol</th>\n",
       "      <td>25</td>\n",
       "    </tr>\n",
       "    <tr>\n",
       "      <th>CA Osasuna</th>\n",
       "      <td>25</td>\n",
       "    </tr>\n",
       "    <tr>\n",
       "      <th>Levante UD</th>\n",
       "      <td>24</td>\n",
       "    </tr>\n",
       "    <tr>\n",
       "      <th>Getafe CF</th>\n",
       "      <td>21</td>\n",
       "    </tr>\n",
       "  </tbody>\n",
       "</table>\n",
       "</div>"
      ],
      "text/plain": [
       "                    Opponent\n",
       "Sevilla FC                38\n",
       "Atlético de Madrid        32\n",
       "Valencia CF               31\n",
       "Athletic Bilbao           29\n",
       "Real Madrid               26\n",
       "Real Bétis                26\n",
       "RCD Espanyol              25\n",
       "CA Osasuna                25\n",
       "Levante UD                24\n",
       "Getafe CF                 21"
      ]
     },
     "execution_count": 52,
     "metadata": {},
     "output_type": "execute_result"
    }
   ],
   "source": [
    "mais_gols = dados['Opponent'].value_counts()\n",
    "pd.DataFrame(mais_gols).head(10)"
   ]
  },
  {
   "cell_type": "markdown",
   "id": "75800c9e",
   "metadata": {},
   "source": [
    "Detalhe: Messi é o maior artilheiro do grande El Clasico entre Barcelona e Real Madrid."
   ]
  },
  {
   "cell_type": "markdown",
   "id": "c2fe2c69",
   "metadata": {},
   "source": [
    "# Percentual dos gols"
   ]
  },
  {
   "cell_type": "code",
   "execution_count": 55,
   "id": "266e5800",
   "metadata": {},
   "outputs": [
    {
     "data": {
      "text/html": [
       "<div>\n",
       "<style scoped>\n",
       "    .dataframe tbody tr th:only-of-type {\n",
       "        vertical-align: middle;\n",
       "    }\n",
       "\n",
       "    .dataframe tbody tr th {\n",
       "        vertical-align: top;\n",
       "    }\n",
       "\n",
       "    .dataframe thead th {\n",
       "        text-align: right;\n",
       "    }\n",
       "</style>\n",
       "<table border=\"1\" class=\"dataframe\">\n",
       "  <thead>\n",
       "    <tr style=\"text-align: right;\">\n",
       "      <th></th>\n",
       "      <th>Opponent</th>\n",
       "    </tr>\n",
       "  </thead>\n",
       "  <tbody>\n",
       "    <tr>\n",
       "      <th>Sevilla FC</th>\n",
       "      <td>5.374823</td>\n",
       "    </tr>\n",
       "    <tr>\n",
       "      <th>Atlético de Madrid</th>\n",
       "      <td>4.526167</td>\n",
       "    </tr>\n",
       "    <tr>\n",
       "      <th>Valencia CF</th>\n",
       "      <td>4.384724</td>\n",
       "    </tr>\n",
       "    <tr>\n",
       "      <th>Athletic Bilbao</th>\n",
       "      <td>4.101839</td>\n",
       "    </tr>\n",
       "    <tr>\n",
       "      <th>Real Madrid</th>\n",
       "      <td>3.677511</td>\n",
       "    </tr>\n",
       "    <tr>\n",
       "      <th>Real Bétis</th>\n",
       "      <td>3.677511</td>\n",
       "    </tr>\n",
       "    <tr>\n",
       "      <th>RCD Espanyol</th>\n",
       "      <td>3.536068</td>\n",
       "    </tr>\n",
       "    <tr>\n",
       "      <th>CA Osasuna</th>\n",
       "      <td>3.536068</td>\n",
       "    </tr>\n",
       "    <tr>\n",
       "      <th>Levante UD</th>\n",
       "      <td>3.394625</td>\n",
       "    </tr>\n",
       "    <tr>\n",
       "      <th>Getafe CF</th>\n",
       "      <td>2.970297</td>\n",
       "    </tr>\n",
       "  </tbody>\n",
       "</table>\n",
       "</div>"
      ],
      "text/plain": [
       "                    Opponent\n",
       "Sevilla FC          5.374823\n",
       "Atlético de Madrid  4.526167\n",
       "Valencia CF         4.384724\n",
       "Athletic Bilbao     4.101839\n",
       "Real Madrid         3.677511\n",
       "Real Bétis          3.677511\n",
       "RCD Espanyol        3.536068\n",
       "CA Osasuna          3.536068\n",
       "Levante UD          3.394625\n",
       "Getafe CF           2.970297"
      ]
     },
     "execution_count": 55,
     "metadata": {},
     "output_type": "execute_result"
    }
   ],
   "source": [
    "mais_gols = dados['Opponent'].value_counts(normalize=True)*100\n",
    "pd.DataFrame(mais_gols).head(10)"
   ]
  },
  {
   "cell_type": "markdown",
   "id": "7c1e84a9",
   "metadata": {},
   "source": [
    "# Top 5 vítimas em La Liga"
   ]
  },
  {
   "cell_type": "code",
   "execution_count": 104,
   "id": "9be71274",
   "metadata": {},
   "outputs": [
    {
     "data": {
      "text/html": [
       "<div>\n",
       "<style scoped>\n",
       "    .dataframe tbody tr th:only-of-type {\n",
       "        vertical-align: middle;\n",
       "    }\n",
       "\n",
       "    .dataframe tbody tr th {\n",
       "        vertical-align: top;\n",
       "    }\n",
       "\n",
       "    .dataframe thead th {\n",
       "        text-align: right;\n",
       "    }\n",
       "</style>\n",
       "<table border=\"1\" class=\"dataframe\">\n",
       "  <thead>\n",
       "    <tr style=\"text-align: right;\">\n",
       "      <th></th>\n",
       "      <th>Opponent</th>\n",
       "    </tr>\n",
       "  </thead>\n",
       "  <tbody>\n",
       "    <tr>\n",
       "      <th>Sevilla FC</th>\n",
       "      <td>30</td>\n",
       "    </tr>\n",
       "    <tr>\n",
       "      <th>Valencia CF</th>\n",
       "      <td>27</td>\n",
       "    </tr>\n",
       "    <tr>\n",
       "      <th>Atlético de Madrid</th>\n",
       "      <td>26</td>\n",
       "    </tr>\n",
       "    <tr>\n",
       "      <th>CA Osasuna</th>\n",
       "      <td>23</td>\n",
       "    </tr>\n",
       "    <tr>\n",
       "      <th>Levante UD</th>\n",
       "      <td>23</td>\n",
       "    </tr>\n",
       "  </tbody>\n",
       "</table>\n",
       "</div>"
      ],
      "text/plain": [
       "                    Opponent\n",
       "Sevilla FC                30\n",
       "Valencia CF               27\n",
       "Atlético de Madrid        26\n",
       "CA Osasuna                23\n",
       "Levante UD                23"
      ]
     },
     "execution_count": 104,
     "metadata": {},
     "output_type": "execute_result"
    }
   ],
   "source": [
    "x = dados[dados['Competition']== 'La Liga']\n",
    "pd.DataFrame(x['Opponent'].value_counts()).head()"
   ]
  },
  {
   "cell_type": "markdown",
   "id": "54090e6d",
   "metadata": {},
   "source": [
    "# Top 5 vítimas na UEFA Champions League"
   ]
  },
  {
   "cell_type": "code",
   "execution_count": 96,
   "id": "3e5dbd8f",
   "metadata": {},
   "outputs": [
    {
     "data": {
      "text/html": [
       "<div>\n",
       "<style scoped>\n",
       "    .dataframe tbody tr th:only-of-type {\n",
       "        vertical-align: middle;\n",
       "    }\n",
       "\n",
       "    .dataframe tbody tr th {\n",
       "        vertical-align: top;\n",
       "    }\n",
       "\n",
       "    .dataframe thead th {\n",
       "        text-align: right;\n",
       "    }\n",
       "</style>\n",
       "<table border=\"1\" class=\"dataframe\">\n",
       "  <thead>\n",
       "    <tr style=\"text-align: right;\">\n",
       "      <th></th>\n",
       "      <th>Opponent</th>\n",
       "    </tr>\n",
       "  </thead>\n",
       "  <tbody>\n",
       "    <tr>\n",
       "      <th>Arsenal FC</th>\n",
       "      <td>9</td>\n",
       "    </tr>\n",
       "    <tr>\n",
       "      <th>Celtic FC</th>\n",
       "      <td>8</td>\n",
       "    </tr>\n",
       "    <tr>\n",
       "      <th>AC Milan</th>\n",
       "      <td>8</td>\n",
       "    </tr>\n",
       "    <tr>\n",
       "      <th>Manchester City</th>\n",
       "      <td>7</td>\n",
       "    </tr>\n",
       "    <tr>\n",
       "      <th>Bayer 04 Leverkusen</th>\n",
       "      <td>7</td>\n",
       "    </tr>\n",
       "  </tbody>\n",
       "</table>\n",
       "</div>"
      ],
      "text/plain": [
       "                     Opponent\n",
       "Arsenal FC                  9\n",
       "Celtic FC                   8\n",
       "AC Milan                    8\n",
       "Manchester City             7\n",
       "Bayer 04 Leverkusen         7"
      ]
     },
     "execution_count": 96,
     "metadata": {},
     "output_type": "execute_result"
    }
   ],
   "source": [
    "x = dados[dados['Competition']== 'UEFA Champions League']\n",
    "pd.DataFrame(x['Opponent'].value_counts()).head()"
   ]
  },
  {
   "cell_type": "code",
   "execution_count": null,
   "id": "79f3a053",
   "metadata": {},
   "outputs": [],
   "source": []
  },
  {
   "cell_type": "code",
   "execution_count": null,
   "id": "052e5fb2",
   "metadata": {},
   "outputs": [],
   "source": []
  },
  {
   "cell_type": "code",
   "execution_count": null,
   "id": "4fcb7fcf",
   "metadata": {},
   "outputs": [],
   "source": []
  },
  {
   "cell_type": "code",
   "execution_count": null,
   "id": "3b6d7692",
   "metadata": {},
   "outputs": [],
   "source": []
  }
 ],
 "metadata": {
  "kernelspec": {
   "display_name": "Python 3 (ipykernel)",
   "language": "python",
   "name": "python3"
  },
  "language_info": {
   "codemirror_mode": {
    "name": "ipython",
    "version": 3
   },
   "file_extension": ".py",
   "mimetype": "text/x-python",
   "name": "python",
   "nbconvert_exporter": "python",
   "pygments_lexer": "ipython3",
   "version": "3.9.13"
  }
 },
 "nbformat": 4,
 "nbformat_minor": 5
}
